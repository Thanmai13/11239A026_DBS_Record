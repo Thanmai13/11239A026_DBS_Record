{
  "nbformat": 4,
  "nbformat_minor": 0,
  "metadata": {
    "colab": {
      "provenance": [],
      "authorship_tag": "ABX9TyMo9eUbsu10nVwxCU0o2wa2",
      "include_colab_link": true
    },
    "kernelspec": {
      "name": "python3",
      "display_name": "Python 3"
    },
    "language_info": {
      "name": "python"
    }
  },
  "cells": [
    {
      "cell_type": "markdown",
      "metadata": {
        "id": "view-in-github",
        "colab_type": "text"
      },
      "source": [
        "<a href=\"https://colab.research.google.com/github/Thanmai13/11239A026_DBS_Record/blob/main/11239A026_DBS_RECORD.ipynb\" target=\"_parent\"><img src=\"https://colab.research.google.com/assets/colab-badge.svg\" alt=\"Open In Colab\"/></a>"
      ]
    },
    {
      "cell_type": "markdown",
      "source": [
        "1.CASER CIPHER"
      ],
      "metadata": {
        "id": "3yGDddZImzOj"
      }
    },
    {
      "cell_type": "code",
      "execution_count": null,
      "metadata": {
        "colab": {
          "base_uri": "https://localhost:8080/"
        },
        "id": "z4PLomdOi0IV",
        "outputId": "bd0e07c0-886d-4ea4-a145-06258461137d"
      },
      "outputs": [
        {
          "output_type": "stream",
          "name": "stdout",
          "text": [
            "Enter the plain text: hello\n",
            "Enter the key value: 1234\n",
            "\n",
            "\tPLAIN TEXT: hello\n",
            "\n",
            "\tENCRYPTED TEXT: t q x x a \n",
            "\n",
            "\tAFTER DECRYPTION: h e l l o \n"
          ]
        }
      ],
      "source": [
        "def caesar_cipher():\n",
        "    plain = input(\"Enter the plain text: \")\n",
        "    key = int(input(\"Enter the key value: \"))\n",
        "    print(\"\\n\\tPLAIN TEXT:\", plain)\n",
        "    print(\"\\n\\tENCRYPTED TEXT:\", end=' ')\n",
        "\n",
        "    cipher = ''\n",
        "    for char in plain:\n",
        "        if char.isupper():\n",
        "            cipher_char = chr((ord(char) + key - 65) % 26 + 65)\n",
        "        elif char.islower():\n",
        "            cipher_char = chr((ord(char) + key - 97) % 26 + 97)\n",
        "        else:\n",
        "            cipher_char = char  # Non-alphabetic characters remain unchanged\n",
        "        cipher += cipher_char\n",
        "        print(cipher_char, end=' ')\n",
        "    print(\"\\n\\n\\tAFTER DECRYPTION:\", end=' ')\n",
        "\n",
        "    decrypted = ''\n",
        "    for char in cipher:\n",
        "        if char.isupper():\n",
        "            plain_char = chr((ord(char) - key - 65) % 26 + 65)\n",
        "        elif char.islower():\n",
        "            plain_char = chr((ord(char) - key - 97) % 26 + 97)\n",
        "        else:\n",
        "            plain_char = char  # Non-alphabetic characters remain unchanged\n",
        "        decrypted += plain_char\n",
        "        print(plain_char, end=' ')\n",
        "    print()\n",
        "if __name__ == \"__main__\":\n",
        "    caesar_cipher()"
      ]
    },
    {
      "cell_type": "markdown",
      "source": [
        "2. PLAY FAIR CIPHER"
      ],
      "metadata": {
        "id": "B4s98aPTnExg"
      }
    },
    {
      "cell_type": "code",
      "source": [
        "import string\n",
        "\n",
        "MX = 5  # Define MX as a constant for matrix size\n",
        "\n",
        "def playfair(ch1, ch2, key):\n",
        "    # Initialize positions\n",
        "    w = x = y = z = None\n",
        "    # Find positions of the characters in the key matrix\n",
        "    for i in range(MX):\n",
        "        for j in range(MX):\n",
        "            if ch1 == key[i][j]:\n",
        "                w, x = i, j\n",
        "            elif ch2 == key[i][j]:\n",
        "                y, z = i, j\n",
        "    # Check if both characters were found\n",
        "    if w is None or y is None:\n",
        "        print(f\"Error: Characters '{ch1}' or '{ch2}' not found in the key matrix.\")\n",
        "        return\n",
        "    if w == y:  # Same row\n",
        "        x = (x + 1) % MX\n",
        "        z = (z + 1) % MX\n",
        "    elif x == z:  # Same column\n",
        "        w = (w + 1) % MX\n",
        "        y = (y + 1) % MX\n",
        "    else:  # Rectangle\n",
        "        w, y, x, z = w, y, z, x\n",
        "    # Output the encrypted characters\n",
        "    cipher_text = key[w][x] + key[y][z]\n",
        "    print(cipher_text, end='') # Print without newline for continuous output\n",
        "    # Write to the output file\n",
        "    with open(\"cipher.txt\", \"a+\") as out:\n",
        "        out.write(cipher_text)\n",
        "\n",
        "def create_key_matrix(keystr):\n",
        "    keystr = keystr.upper().replace('J', 'I')\n",
        "    seen = set()\n",
        "    key = []\n",
        "    # Fill key with unique characters from the key string\n",
        "    for char in keystr:\n",
        "        if char not in seen and char in string.ascii_uppercase:\n",
        "            seen.add(char)\n",
        "            key.append(char)\n",
        "    # Fill the key with the remaining letters of the alphabet\n",
        "    for char in string.ascii_uppercase:\n",
        "        if char not in seen and char != 'J':\n",
        "            seen.add(char)\n",
        "            key.append(char)\n",
        "    # Create 5x5 matrix\n",
        "    key_matrix = []\n",
        "    for i in range(MX):\n",
        "        row = key[i * MX:(i + 1) * MX]\n",
        "        key_matrix.append(row)\n",
        "    return key_matrix\n",
        "\n",
        "def format_plaintext(plaintext):\n",
        "    plaintext = plaintext.upper().replace('J', 'I')\n",
        "    formatted = []\n",
        "    i = 0\n",
        "    while i < len(plaintext):\n",
        "        if plaintext[i] == ' ':\n",
        "            i += 1\n",
        "            continue\n",
        "        if i + 1 < len(plaintext) and plaintext[i] == plaintext[i + 1]:\n",
        "            formatted.append(plaintext[i] + 'X')\n",
        "            i += 1\n",
        "        else:\n",
        "            if i + 1 < len(plaintext):\n",
        "                formatted.append(plaintext[i] + plaintext[i + 1])\n",
        "                i += 2\n",
        "            else:\n",
        "                formatted.append(plaintext[i] + 'X')\n",
        "                i += 1\n",
        "    return formatted\n",
        "\n",
        "def main():\n",
        "    keystr = input(\"Enter key: \")\n",
        "    plaintext = input(\"Enter the plain text: \")\n",
        "    # Create the key matrix\n",
        "    key_matrix = create_key_matrix(keystr)\n",
        "    print(\"\\nKey Matrix:\")\n",
        "    for row in key_matrix:\n",
        "        print(\" \".join(row))\n",
        "    print(\"\\nEntered text:\", plaintext)\n",
        "    print(\"Cipher Text:\", end=' ')\n",
        "    digraphs = format_plaintext(plaintext)\n",
        "    for digraph in digraphs:\n",
        "        playfair(digraph[0], digraph[1], key_matrix)\n",
        "\n",
        "if __name__ == \"__main__\":\n",
        "    # Clear cipher.txt before writing\n",
        "    with open(\"cipher.txt\", \"w\") as out:\n",
        "        out.write(\"\")\n",
        "    main()"
      ],
      "metadata": {
        "colab": {
          "base_uri": "https://localhost:8080/"
        },
        "id": "ZMcYOLYRjoRi",
        "outputId": "39064465-b9c0-4d62-8a3a-9ee6ee1d4d36"
      },
      "execution_count": null,
      "outputs": [
        {
          "output_type": "stream",
          "name": "stdout",
          "text": [
            "Enter key: goodbye\n",
            "Enter the plain text: my name is thanmai\n",
            "\n",
            "Key Matrix:\n",
            "G O D B Y\n",
            "E A C F H\n",
            "I K L M N\n",
            "P Q R S T\n",
            "U V W X Z\n",
            "\n",
            "Entered text: my name is thanmai\n",
            "Cipher Text: NBKHIFMPZNHKKFMU"
          ]
        }
      ]
    },
    {
      "cell_type": "markdown",
      "source": [
        "3. HILL CIPHER  "
      ],
      "metadata": {
        "id": "i3oCFOpTnUGV"
      }
    },
    {
      "cell_type": "code",
      "source": [
        "import numpy as np\n",
        "def main():\n",
        "    a = np.array([[6, 24, 1], [13, 16, 10], [20, 17, 15]], dtype=np.uint32)\n",
        "    b = np.array([[8, 5, 10], [21, 8, 21], [21, 12, 8]], dtype=np.uint32)\n",
        "    msg = input(\"Enter plain text: \")\n",
        "    # Initialize c and d with size equal to the length of the message\n",
        "    c = [0] * len(msg)\n",
        "    d = [0] * len(msg)\n",
        "    for i in range(len(msg)):\n",
        "        c[i] = ord(msg[i]) - 65\n",
        "        print(c[i], end=\" \")\n",
        "    for i in range(3):\n",
        "        t = 0\n",
        "        for j in range(3):\n",
        "            t += a[i][j] * c[j]\n",
        "        d[i] = t % 26\n",
        "    print(\"\\nEncrypted Cipher Text :\", end=\"\")\n",
        "    for i in range(3):\n",
        "        print(\" \", chr(d[i] + 65), end=\"\")\n",
        "    for i in range(3):\n",
        "        t = 0\n",
        "        for j in range(3):\n",
        "            t += b[i][j] * d[j]\n",
        "        c[i] = t % 26\n",
        "    print(\"\\nDecrypted Cipher Text :\", end=\"\")\n",
        "    for i in range(3):\n",
        "        print(\" \", chr(c[i] + 65), end=\"\")\n",
        "    print() # Add a newline at the end for better formatting\n",
        "if __name__ == \"__main__\":\n",
        "    main()"
      ],
      "metadata": {
        "colab": {
          "base_uri": "https://localhost:8080/"
        },
        "id": "7AQ0QtazkgXj",
        "outputId": "9772c5b4-1812-4af5-ed2c-4a0d1c735c9d"
      },
      "execution_count": null,
      "outputs": [
        {
          "output_type": "stream",
          "name": "stdout",
          "text": [
            "Enter plain text: THANMAI\n",
            "19 7 0 13 12 0 8 \n",
            "Encrypted Cipher Text :  W  V  F\n",
            "Decrypted Cipher Text :  T  H  A\n"
          ]
        }
      ]
    },
    {
      "cell_type": "markdown",
      "source": [
        "4.IMPLEMENTATION OF VIGENERE CIPHER"
      ],
      "metadata": {
        "id": "SWXDNSRunc51"
      }
    },
    {
      "cell_type": "code",
      "source": [
        "import string\n",
        "def encipher():\n",
        "    input_text = input(\"\\n\\nEnter Plain Text: \")\n",
        "    key = input(\"\\nEnter Key Value: \")\n",
        "    print(\"\\nResultant Cipher Text: \", end=\"\")\n",
        "    j = 0\n",
        "    for i in range(len(input_text)):\n",
        "        if j >= len(key):\n",
        "            j = 0\n",
        "        cipher_char = chr(65 + ((ord(input_text[i].upper()) - 65 + ord(key[j].upper()) - 65) % 26))\n",
        "        print(cipher_char, end=\"\")\n",
        "        j += 1\n",
        "    print()\n",
        "\n",
        "def decipher():\n",
        "    input_text = input(\"\\n\\nEnter Cipher Text: \")\n",
        "    key = input(\"\\n\\nEnter the key value: \")\n",
        "    j = 0\n",
        "    for i in range(len(input_text)):\n",
        "        if j >= len(key):\n",
        "            j = 0\n",
        "        value = (ord(input_text[i].upper()) - 64) - (ord(key[j].upper()) - 64)\n",
        "        if value < 0:\n",
        "            value = -value\n",
        "        print(chr(65 + (value % 26)), end=\"\")\n",
        "        j += 1\n",
        "    print()\n",
        "\n",
        "def main():\n",
        "    while True:\n",
        "        print(\"\\n1. Encrypt Text\")\n",
        "        print(\"\\t2. Decrypt Text\")\n",
        "        print(\"\\t3. Exit\")\n",
        "        try:\n",
        "            choice = int(input(\"\\n\\nEnter Your Choice: \"))\n",
        "            if choice == 3:\n",
        "                break\n",
        "            elif choice == 1:\n",
        "                encipher()\n",
        "            elif choice == 2:\n",
        "                decipher()\n",
        "            else:\n",
        "                print(\"Please Enter Valid Option.\")\n",
        "        except ValueError:\n",
        "            print(\"Invalid input. Please enter a number (1, 2, or 3).\")\n",
        "\n",
        "if __name__ == \"__main__\":\n",
        "    main()"
      ],
      "metadata": {
        "colab": {
          "base_uri": "https://localhost:8080/"
        },
        "id": "h5pvpkwblMqa",
        "outputId": "b46bd9c1-b4bf-473d-d161-8d097a65cb07"
      },
      "execution_count": null,
      "outputs": [
        {
          "name": "stdout",
          "output_type": "stream",
          "text": [
            "\n",
            "1. Encrypt Text\n",
            "\t2. Decrypt Text\n",
            "\t3. Exit\n",
            "\n",
            "\n",
            "Enter Your Choice: 2\n",
            "\n",
            "\n",
            "Enter Cipher Text: myntra\n",
            "\n",
            "\n",
            "Enter the key value: 5\n",
            "YKZFDM\n",
            "\n",
            "1. Encrypt Text\n",
            "\t2. Decrypt Text\n",
            "\t3. Exit\n",
            "\n",
            "\n",
            "Enter Your Choice: 3\n"
          ]
        }
      ]
    },
    {
      "cell_type": "markdown",
      "source": [
        "5.IMPLEMENTATION OF RAIL FENCE – ROW & COLUMN TRANSFORMATION TECHNIQUE"
      ],
      "metadata": {
        "id": "Z83Juag_nyW1"
      }
    },
    {
      "cell_type": "code",
      "source": [
        "import sys\n",
        "def main():\n",
        "    print(\"\\n\\t\\t RAIL FENCE TECHNIQUE\")\n",
        "    a = input(\"\\n\\nEnter the input string : \")\n",
        "    l = len(a)\n",
        "    # Ciphering\n",
        "    c = ''.join([a[i] for i in range(l) if i % 2 == 0])\n",
        "    c += ''.join([a[i] for i in range(l) if i % 2 == 1])\n",
        "    print(\"\\nCipher text after applying rail fence :\")\n",
        "    print(c)\n",
        "    # Deciphering\n",
        "    k = l // 2 if l % 2 == 0 else (l // 2) + 1\n",
        "    d = [''] * l\n",
        "    for i in range(k):\n",
        "        d[i*2] = c[i]\n",
        "    for i in range(k, l):\n",
        "        d[(i-k)*2 + 1] = c[i]\n",
        "    d = ''.join(d)\n",
        "    print(\"\\nText after decryption : \")\n",
        "    print(d)\n",
        "    input(\"Press Enter to continue...\")\n",
        "if __name__ == \"__main__\":\n",
        "    main()"
      ],
      "metadata": {
        "colab": {
          "base_uri": "https://localhost:8080/"
        },
        "id": "4OHRoZU5mcms",
        "outputId": "0ea2e15d-4496-45b7-837e-941f3364c2f5"
      },
      "execution_count": null,
      "outputs": [
        {
          "name": "stdout",
          "output_type": "stream",
          "text": [
            "\n",
            "\t\t RAIL FENCE TECHNIQUE\n",
            "\n",
            "\n",
            "Enter the input string : scsvmv\n",
            "\n",
            "Cipher text after applying rail fence :\n",
            "ssmcvv\n",
            "\n",
            "Text after decryption : \n",
            "scsvmv\n",
            "Press Enter to continue...admin\n"
          ]
        }
      ]
    }
  ]
}