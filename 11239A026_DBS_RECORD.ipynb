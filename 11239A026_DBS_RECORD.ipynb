{
  "nbformat": 4,
  "nbformat_minor": 0,
  "metadata": {
    "colab": {
      "provenance": [],
      "authorship_tag": "ABX9TyOvjgYh7bC/3vLf/x5kbDVS",
      "include_colab_link": true
    },
    "kernelspec": {
      "name": "python3",
      "display_name": "Python 3"
    },
    "language_info": {
      "name": "python"
    }
  },
  "cells": [
    {
      "cell_type": "markdown",
      "metadata": {
        "id": "view-in-github",
        "colab_type": "text"
      },
      "source": [
        "<a href=\"https://colab.research.google.com/github/Thanmai13/11239A026_DBS_Record/blob/main/11239A026_DBS_RECORD.ipynb\" target=\"_parent\"><img src=\"https://colab.research.google.com/assets/colab-badge.svg\" alt=\"Open In Colab\"/></a>"
      ]
    },
    {
      "cell_type": "markdown",
      "source": [
        "1.CASER CIPHER"
      ],
      "metadata": {
        "id": "3yGDddZImzOj"
      }
    },
    {
      "cell_type": "code",
      "execution_count": null,
      "metadata": {
        "colab": {
          "base_uri": "https://localhost:8080/"
        },
        "id": "z4PLomdOi0IV",
        "outputId": "bd0e07c0-886d-4ea4-a145-06258461137d"
      },
      "outputs": [
        {
          "output_type": "stream",
          "name": "stdout",
          "text": [
            "Enter the plain text: hello\n",
            "Enter the key value: 1234\n",
            "\n",
            "\tPLAIN TEXT: hello\n",
            "\n",
            "\tENCRYPTED TEXT: t q x x a \n",
            "\n",
            "\tAFTER DECRYPTION: h e l l o \n"
          ]
        }
      ],
      "source": [
        "def caesar_cipher():\n",
        "    plain = input(\"Enter the plain text: \")\n",
        "    key = int(input(\"Enter the key value: \"))\n",
        "    print(\"\\n\\tPLAIN TEXT:\", plain)\n",
        "    print(\"\\n\\tENCRYPTED TEXT:\", end=' ')\n",
        "\n",
        "    cipher = ''\n",
        "    for char in plain:\n",
        "        if char.isupper():\n",
        "            cipher_char = chr((ord(char) + key - 65) % 26 + 65)\n",
        "        elif char.islower():\n",
        "            cipher_char = chr((ord(char) + key - 97) % 26 + 97)\n",
        "        else:\n",
        "            cipher_char = char  # Non-alphabetic characters remain unchanged\n",
        "        cipher += cipher_char\n",
        "        print(cipher_char, end=' ')\n",
        "    print(\"\\n\\n\\tAFTER DECRYPTION:\", end=' ')\n",
        "\n",
        "    decrypted = ''\n",
        "    for char in cipher:\n",
        "        if char.isupper():\n",
        "            plain_char = chr((ord(char) - key - 65) % 26 + 65)\n",
        "        elif char.islower():\n",
        "            plain_char = chr((ord(char) - key - 97) % 26 + 97)\n",
        "        else:\n",
        "            plain_char = char  # Non-alphabetic characters remain unchanged\n",
        "        decrypted += plain_char\n",
        "        print(plain_char, end=' ')\n",
        "    print()\n",
        "if __name__ == \"__main__\":\n",
        "    caesar_cipher()"
      ]
    },
    {
      "cell_type": "markdown",
      "source": [
        "2. PLAY FAIR CIPHER"
      ],
      "metadata": {
        "id": "B4s98aPTnExg"
      }
    },
    {
      "cell_type": "code",
      "source": [
        "import string\n",
        "\n",
        "MX = 5  # Define MX as a constant for matrix size\n",
        "\n",
        "def playfair(ch1, ch2, key):\n",
        "    # Initialize positions\n",
        "    w = x = y = z = None\n",
        "    # Find positions of the characters in the key matrix\n",
        "    for i in range(MX):\n",
        "        for j in range(MX):\n",
        "            if ch1 == key[i][j]:\n",
        "                w, x = i, j\n",
        "            elif ch2 == key[i][j]:\n",
        "                y, z = i, j\n",
        "    # Check if both characters were found\n",
        "    if w is None or y is None:\n",
        "        print(f\"Error: Characters '{ch1}' or '{ch2}' not found in the key matrix.\")\n",
        "        return\n",
        "    if w == y:  # Same row\n",
        "        x = (x + 1) % MX\n",
        "        z = (z + 1) % MX\n",
        "    elif x == z:  # Same column\n",
        "        w = (w + 1) % MX\n",
        "        y = (y + 1) % MX\n",
        "    else:  # Rectangle\n",
        "        w, y, x, z = w, y, z, x\n",
        "    # Output the encrypted characters\n",
        "    cipher_text = key[w][x] + key[y][z]\n",
        "    print(cipher_text, end='') # Print without newline for continuous output\n",
        "    # Write to the output file\n",
        "    with open(\"cipher.txt\", \"a+\") as out:\n",
        "        out.write(cipher_text)\n",
        "\n",
        "def create_key_matrix(keystr):\n",
        "    keystr = keystr.upper().replace('J', 'I')\n",
        "    seen = set()\n",
        "    key = []\n",
        "    # Fill key with unique characters from the key string\n",
        "    for char in keystr:\n",
        "        if char not in seen and char in string.ascii_uppercase:\n",
        "            seen.add(char)\n",
        "            key.append(char)\n",
        "    # Fill the key with the remaining letters of the alphabet\n",
        "    for char in string.ascii_uppercase:\n",
        "        if char not in seen and char != 'J':\n",
        "            seen.add(char)\n",
        "            key.append(char)\n",
        "    # Create 5x5 matrix\n",
        "    key_matrix = []\n",
        "    for i in range(MX):\n",
        "        row = key[i * MX:(i + 1) * MX]\n",
        "        key_matrix.append(row)\n",
        "    return key_matrix\n",
        "\n",
        "def format_plaintext(plaintext):\n",
        "    plaintext = plaintext.upper().replace('J', 'I')\n",
        "    formatted = []\n",
        "    i = 0\n",
        "    while i < len(plaintext):\n",
        "        if plaintext[i] == ' ':\n",
        "            i += 1\n",
        "            continue\n",
        "        if i + 1 < len(plaintext) and plaintext[i] == plaintext[i + 1]:\n",
        "            formatted.append(plaintext[i] + 'X')\n",
        "            i += 1\n",
        "        else:\n",
        "            if i + 1 < len(plaintext):\n",
        "                formatted.append(plaintext[i] + plaintext[i + 1])\n",
        "                i += 2\n",
        "            else:\n",
        "                formatted.append(plaintext[i] + 'X')\n",
        "                i += 1\n",
        "    return formatted\n",
        "\n",
        "def main():\n",
        "    keystr = input(\"Enter key: \")\n",
        "    plaintext = input(\"Enter the plain text: \")\n",
        "    # Create the key matrix\n",
        "    key_matrix = create_key_matrix(keystr)\n",
        "    print(\"\\nKey Matrix:\")\n",
        "    for row in key_matrix:\n",
        "        print(\" \".join(row))\n",
        "    print(\"\\nEntered text:\", plaintext)\n",
        "    print(\"Cipher Text:\", end=' ')\n",
        "    digraphs = format_plaintext(plaintext)\n",
        "    for digraph in digraphs:\n",
        "        playfair(digraph[0], digraph[1], key_matrix)\n",
        "\n",
        "if __name__ == \"__main__\":\n",
        "    # Clear cipher.txt before writing\n",
        "    with open(\"cipher.txt\", \"w\") as out:\n",
        "        out.write(\"\")\n",
        "    main()"
      ],
      "metadata": {
        "colab": {
          "base_uri": "https://localhost:8080/"
        },
        "id": "ZMcYOLYRjoRi",
        "outputId": "39064465-b9c0-4d62-8a3a-9ee6ee1d4d36"
      },
      "execution_count": null,
      "outputs": [
        {
          "output_type": "stream",
          "name": "stdout",
          "text": [
            "Enter key: goodbye\n",
            "Enter the plain text: my name is thanmai\n",
            "\n",
            "Key Matrix:\n",
            "G O D B Y\n",
            "E A C F H\n",
            "I K L M N\n",
            "P Q R S T\n",
            "U V W X Z\n",
            "\n",
            "Entered text: my name is thanmai\n",
            "Cipher Text: NBKHIFMPZNHKKFMU"
          ]
        }
      ]
    },
    {
      "cell_type": "markdown",
      "source": [
        "3. HILL CIPHER  "
      ],
      "metadata": {
        "id": "i3oCFOpTnUGV"
      }
    },
    {
      "cell_type": "code",
      "source": [
        "import numpy as np\n",
        "def main():\n",
        "    a = np.array([[6, 24, 1], [13, 16, 10], [20, 17, 15]], dtype=np.uint32)\n",
        "    b = np.array([[8, 5, 10], [21, 8, 21], [21, 12, 8]], dtype=np.uint32)\n",
        "    msg = input(\"Enter plain text: \")\n",
        "    # Initialize c and d with size equal to the length of the message\n",
        "    c = [0] * len(msg)\n",
        "    d = [0] * len(msg)\n",
        "    for i in range(len(msg)):\n",
        "        c[i] = ord(msg[i]) - 65\n",
        "        print(c[i], end=\" \")\n",
        "    for i in range(3):\n",
        "        t = 0\n",
        "        for j in range(3):\n",
        "            t += a[i][j] * c[j]\n",
        "        d[i] = t % 26\n",
        "    print(\"\\nEncrypted Cipher Text :\", end=\"\")\n",
        "    for i in range(3):\n",
        "        print(\" \", chr(d[i] + 65), end=\"\")\n",
        "    for i in range(3):\n",
        "        t = 0\n",
        "        for j in range(3):\n",
        "            t += b[i][j] * d[j]\n",
        "        c[i] = t % 26\n",
        "    print(\"\\nDecrypted Cipher Text :\", end=\"\")\n",
        "    for i in range(3):\n",
        "        print(\" \", chr(c[i] + 65), end=\"\")\n",
        "    print() # Add a newline at the end for better formatting\n",
        "if __name__ == \"__main__\":\n",
        "    main()"
      ],
      "metadata": {
        "colab": {
          "base_uri": "https://localhost:8080/"
        },
        "id": "7AQ0QtazkgXj",
        "outputId": "9772c5b4-1812-4af5-ed2c-4a0d1c735c9d"
      },
      "execution_count": null,
      "outputs": [
        {
          "output_type": "stream",
          "name": "stdout",
          "text": [
            "Enter plain text: THANMAI\n",
            "19 7 0 13 12 0 8 \n",
            "Encrypted Cipher Text :  W  V  F\n",
            "Decrypted Cipher Text :  T  H  A\n"
          ]
        }
      ]
    },
    {
      "cell_type": "markdown",
      "source": [
        "4.IMPLEMENTATION OF VIGENERE CIPHER"
      ],
      "metadata": {
        "id": "SWXDNSRunc51"
      }
    },
    {
      "cell_type": "code",
      "source": [
        "import string\n",
        "def encipher():\n",
        "    input_text = input(\"\\n\\nEnter Plain Text: \")\n",
        "    key = input(\"\\nEnter Key Value: \")\n",
        "    print(\"\\nResultant Cipher Text: \", end=\"\")\n",
        "    j = 0\n",
        "    for i in range(len(input_text)):\n",
        "        if j >= len(key):\n",
        "            j = 0\n",
        "        cipher_char = chr(65 + ((ord(input_text[i].upper()) - 65 + ord(key[j].upper()) - 65) % 26))\n",
        "        print(cipher_char, end=\"\")\n",
        "        j += 1\n",
        "    print()\n",
        "\n",
        "def decipher():\n",
        "    input_text = input(\"\\n\\nEnter Cipher Text: \")\n",
        "    key = input(\"\\n\\nEnter the key value: \")\n",
        "    j = 0\n",
        "    for i in range(len(input_text)):\n",
        "        if j >= len(key):\n",
        "            j = 0\n",
        "        value = (ord(input_text[i].upper()) - 64) - (ord(key[j].upper()) - 64)\n",
        "        if value < 0:\n",
        "            value = -value\n",
        "        print(chr(65 + (value % 26)), end=\"\")\n",
        "        j += 1\n",
        "    print()\n",
        "\n",
        "def main():\n",
        "    while True:\n",
        "        print(\"\\n1. Encrypt Text\")\n",
        "        print(\"\\t2. Decrypt Text\")\n",
        "        print(\"\\t3. Exit\")\n",
        "        try:\n",
        "            choice = int(input(\"\\n\\nEnter Your Choice: \"))\n",
        "            if choice == 3:\n",
        "                break\n",
        "            elif choice == 1:\n",
        "                encipher()\n",
        "            elif choice == 2:\n",
        "                decipher()\n",
        "            else:\n",
        "                print(\"Please Enter Valid Option.\")\n",
        "        except ValueError:\n",
        "            print(\"Invalid input. Please enter a number (1, 2, or 3).\")\n",
        "\n",
        "if __name__ == \"__main__\":\n",
        "    main()"
      ],
      "metadata": {
        "colab": {
          "base_uri": "https://localhost:8080/"
        },
        "id": "h5pvpkwblMqa",
        "outputId": "b46bd9c1-b4bf-473d-d161-8d097a65cb07"
      },
      "execution_count": null,
      "outputs": [
        {
          "name": "stdout",
          "output_type": "stream",
          "text": [
            "\n",
            "1. Encrypt Text\n",
            "\t2. Decrypt Text\n",
            "\t3. Exit\n",
            "\n",
            "\n",
            "Enter Your Choice: 2\n",
            "\n",
            "\n",
            "Enter Cipher Text: myntra\n",
            "\n",
            "\n",
            "Enter the key value: 5\n",
            "YKZFDM\n",
            "\n",
            "1. Encrypt Text\n",
            "\t2. Decrypt Text\n",
            "\t3. Exit\n",
            "\n",
            "\n",
            "Enter Your Choice: 3\n"
          ]
        }
      ]
    },
    {
      "cell_type": "markdown",
      "source": [
        "5.IMPLEMENTATION OF RAIL FENCE – ROW & COLUMN TRANSFORMATION TECHNIQUE"
      ],
      "metadata": {
        "id": "Z83Juag_nyW1"
      }
    },
    {
      "cell_type": "code",
      "source": [
        "import sys\n",
        "def main():\n",
        "    print(\"\\n\\t\\t RAIL FENCE TECHNIQUE\")\n",
        "    a = input(\"\\n\\nEnter the input string : \")\n",
        "    l = len(a)\n",
        "    # Ciphering\n",
        "    c = ''.join([a[i] for i in range(l) if i % 2 == 0])\n",
        "    c += ''.join([a[i] for i in range(l) if i % 2 == 1])\n",
        "    print(\"\\nCipher text after applying rail fence :\")\n",
        "    print(c)\n",
        "    # Deciphering\n",
        "    k = l // 2 if l % 2 == 0 else (l // 2) + 1\n",
        "    d = [''] * l\n",
        "    for i in range(k):\n",
        "        d[i*2] = c[i]\n",
        "    for i in range(k, l):\n",
        "        d[(i-k)*2 + 1] = c[i]\n",
        "    d = ''.join(d)\n",
        "    print(\"\\nText after decryption : \")\n",
        "    print(d)\n",
        "    input(\"Press Enter to continue...\")\n",
        "if __name__ == \"__main__\":\n",
        "    main()"
      ],
      "metadata": {
        "colab": {
          "base_uri": "https://localhost:8080/"
        },
        "id": "4OHRoZU5mcms",
        "outputId": "0ea2e15d-4496-45b7-837e-941f3364c2f5"
      },
      "execution_count": null,
      "outputs": [
        {
          "name": "stdout",
          "output_type": "stream",
          "text": [
            "\n",
            "\t\t RAIL FENCE TECHNIQUE\n",
            "\n",
            "\n",
            "Enter the input string : scsvmv\n",
            "\n",
            "Cipher text after applying rail fence :\n",
            "ssmcvv\n",
            "\n",
            "Text after decryption : \n",
            "scsvmv\n",
            "Press Enter to continue...admin\n"
          ]
        }
      ]
    },
    {
      "cell_type": "markdown",
      "source": [
        "6.IMPLEMENT THE FOLLOWING ALGORITHMS\n",
        "a) DES"
      ],
      "metadata": {
        "id": "CllYRn3ssvOI"
      }
    },
    {
      "cell_type": "code",
      "source": [
        "from Crypto.Cipher import DES\n",
        "from Crypto.Util.Padding import pad, unpad\n",
        "from Crypto.Random import get_random_bytes\n",
        "import binascii\n",
        "\n",
        "key = get_random_bytes(8)\n",
        "print(\"DES Symmetric key (hex):\", binascii.hexlify(key).decode())\n",
        "\n",
        "msg = input(\"Enter message to encrypt: \")\n",
        "\n",
        "cipher = DES.new(key, DES.MODE_CBC)\n",
        "ct_bytes = cipher.iv + cipher.encrypt(pad(msg.encode(), DES.block_size))\n",
        "print(\"Encrypted (hex):\", binascii.hexlify(ct_bytes).decode())\n",
        "\n",
        "iv = ct_bytes[:DES.block_size]\n",
        "ciphertext = ct_bytes[DES.block_size:]\n",
        "decipher = DES.new(key, DES.MODE_CBC, iv)\n",
        "pt = unpad(decipher.decrypt(ciphertext), DES.block_size)\n",
        "print(\"Decrypted:\", pt.decode())\n"
      ],
      "metadata": {
        "colab": {
          "base_uri": "https://localhost:8080/"
        },
        "id": "Vxom8RWBtaMr",
        "outputId": "48fed082-4488-4d88-b36e-095e45101940"
      },
      "execution_count": 15,
      "outputs": [
        {
          "output_type": "stream",
          "name": "stdout",
          "text": [
            "DES Symmetric key (hex): b5290a175000864c\n",
            "Enter message to encrypt: hello i'm back\n",
            "Encrypted (hex): 63794f05332cb822b0147b4ae7365b6e4e547637ade46823\n",
            "Decrypted: hello i'm back\n"
          ]
        }
      ]
    },
    {
      "cell_type": "markdown",
      "source": [
        "6.b.RSA : RIVEST – SHAMIR- ALMIR"
      ],
      "metadata": {
        "id": "sSXIA939t5jC"
      }
    },
    {
      "cell_type": "code",
      "source": [
        "import math\n",
        "\n",
        "def is_prime(n):\n",
        "    return all(n % i for i in range(2, int(math.sqrt(n)) + 1))\n",
        "\n",
        "def gcd(a, b):\n",
        "    return a if b == 0 else gcd(b, a % b)\n",
        "\n",
        "p = int(input(\"Enter first prime: \"))\n",
        "q = int(input(\"Enter second prime: \"))\n",
        "msg = input(\"Enter message: \")\n",
        "\n",
        "if not (is_prime(p) and is_prime(q) and p != q):\n",
        "    print(\"Invalid primes!\")\n",
        "    exit()\n",
        "\n",
        "n = p * q\n",
        "phi = (p - 1) * (q - 1)\n",
        "\n",
        "# Add a check to ensure phi is greater than 2\n",
        "if phi <= 2:\n",
        "    print(\"Invalid primes. Please choose larger prime numbers.\")\n",
        "    exit()\n",
        "\n",
        "# Find e\n",
        "e = next(i for i in range(2, phi) if gcd(i, phi) == 1)\n",
        "\n",
        "# Find d (multiplicative inverse of e mod phi)\n",
        "d = next(i for i in range(2, phi) if (e * i) % phi == 1)\n",
        "\n",
        "print(f\"\\nPublic key: (e={e}, n={n})\")\n",
        "print(f\"Private key: (d={d}, n={n})\")\n",
        "\n",
        "# Encrypt\n",
        "enc = [pow(ord(ch), e, n) for ch in msg]\n",
        "print(\"\\nEncrypted:\", enc)\n",
        "\n",
        "# Decrypt\n",
        "dec = ''.join(chr(pow(c, d, n)) for c in enc)\n",
        "print(\"Decrypted:\", dec)"
      ],
      "metadata": {
        "colab": {
          "base_uri": "https://localhost:8080/"
        },
        "id": "eeCNkc3WuKrC",
        "outputId": "e5c9f717-e8f0-4701-e321-c9765fa9bd87"
      },
      "execution_count": 1,
      "outputs": [
        {
          "output_type": "stream",
          "name": "stdout",
          "text": [
            "Enter first prime: 7\n",
            "Enter second prime: 13\n",
            "Enter message: hi thanmai\n",
            "\n",
            "Public key: (e=5, n=91)\n",
            "Private key: (d=29, n=91)\n",
            "\n",
            "Encrypted: [13, 14, 2, 51, 13, 41, 80, 44, 41, 14]\n",
            "\u0006\u0013\u0012\u0006\u000e\n"
          ]
        }
      ]
    },
    {
      "cell_type": "markdown",
      "source": [
        "6.c. DIFFIEE-HELLMAN:  "
      ],
      "metadata": {
        "id": "woOAcGJXuzn_"
      }
    },
    {
      "cell_type": "code",
      "source": [
        "def power(a, b, mod):\n",
        "    \"\"\"Calculates (a^b) % mod using recursive exponentiation by squaring.\"\"\"\n",
        "    if b == 1:\n",
        "        return a % mod\n",
        "    t = power(a, b // 2, mod)\n",
        "    if b % 2 == 0:\n",
        "        return (t * t) % mod\n",
        "    else:\n",
        "        return ((t * t) % mod * a) % mod\n",
        "\n",
        "\n",
        "def main():\n",
        "    # Input values\n",
        "    n = int(input(\"Enter the value of n (prime number): \"))\n",
        "    g = int(input(\"Enter the value of g (generator): \"))\n",
        "    x = int(input(\"Enter the value of x for the first person: \"))\n",
        "    a = power(g, x, n)\n",
        "    y = int(input(\"Enter the value of y for the second person: \"))\n",
        "    b = power(g, y, n)\n",
        "\n",
        "    # Calculate the shared keys\n",
        "    key1 = power(b, x, n)  # Key for the first person\n",
        "    key2 = power(a, y, n)  # Key for the second person\n",
        "    print(f\"Key for the first person is: {key1}\")\n",
        "    print(f\"Key for the second person is: {key2}\")\n",
        "\n",
        "if __name__ == \"__main__\":\n",
        "    main()"
      ],
      "metadata": {
        "colab": {
          "base_uri": "https://localhost:8080/"
        },
        "id": "e3Ndc6PZu5s2",
        "outputId": "18f295ab-6b9d-4649-821f-1c799a6532bb"
      },
      "execution_count": 3,
      "outputs": [
        {
          "output_type": "stream",
          "name": "stdout",
          "text": [
            "Enter the value of n (prime number): 7\n",
            "Enter the value of g (generator): 9\n",
            "Enter the value of x for the first person: 6\n",
            "Enter the value of y for the second person: 15\n",
            "Key for the first person is: 1\n",
            "Key for the second person is: 1\n"
          ]
        }
      ]
    },
    {
      "cell_type": "markdown",
      "source": [
        "6.d.IMPLEMENTATION OF MD5 :"
      ],
      "metadata": {
        "id": "L8bsGvHvvLAp"
      }
    },
    {
      "cell_type": "code",
      "source": [
        "import hashlib\n",
        "\n",
        "msg = input(\"Enter message: \")\n",
        "print(\"\\n\\tMD5 ENCRYPTION ALGORITHM IN PYTHON\\n\")\n",
        "print(f\"Input String to be Encrypted using MD5:\\n\\t{msg}\")\n",
        "\n",
        "# Compute MD5 hash\n",
        "result = hashlib.md5(msg.encode()).hexdigest()\n",
        "\n",
        "print(\"\\nThe MD5 code for input string is:\")\n",
        "print(\"\\t= 0x\" + result)\n",
        "print(\"\\n\\tMD5 Encryption Successfully Completed!!!\\n\")\n"
      ],
      "metadata": {
        "colab": {
          "base_uri": "https://localhost:8080/"
        },
        "id": "cscJBToxvQSG",
        "outputId": "8e16166c-a6f3-4606-ff92-78f6ea7d3765"
      },
      "execution_count": 4,
      "outputs": [
        {
          "output_type": "stream",
          "name": "stdout",
          "text": [
            "Enter message: byebye\n",
            "\n",
            "\tMD5 ENCRYPTION ALGORITHM IN PYTHON\n",
            "\n",
            "Input String to be Encrypted using MD5:\n",
            "\tbyebye\n",
            "\n",
            "The MD5 code for input string is:\n",
            "\t= 0x09644372e99020106946045c6fd2d70b\n",
            "\n",
            "\tMD5 Encryption Successfully Completed!!!\n",
            "\n"
          ]
        }
      ]
    },
    {
      "cell_type": "markdown",
      "source": [
        " 6.e.IMPLEMENTATION OF SHA-I"
      ],
      "metadata": {
        "id": "bJx_QwNrwG0u"
      }
    },
    {
      "cell_type": "code",
      "source": [
        "import hashlib\n",
        "def sha1():\n",
        "    try:\n",
        "        md = hashlib.sha1()\n",
        "        print(\"Message digest object info: \")\n",
        "        print(f\" Algorithm = {md.name}\")\n",
        "        print(f\" Provider = {hashlib.__name__}\")\n",
        "        print(f\" ToString = {md}\")\n",
        "\n",
        "        input_str = \"\"\n",
        "        md.update(input_str.encode())\n",
        "        output = md.digest()\n",
        "        print()\n",
        "        print(f\"SHA1(\\\"{input_str}\\\") = {bytes_to_hex(output)}\")\n",
        "\n",
        "        input_str = \"abc\"\n",
        "        md = hashlib.sha1()\n",
        "        md.update(input_str.encode())\n",
        "        output = md.digest()\n",
        "        print()\n",
        "        print(f\"SHA1(\\\"{input_str}\\\") = {bytes_to_hex(output)}\")\n",
        "        input_str = \"abcdefghijklmnopqrstuvwxyz\"\n",
        "        md = hashlib.sha1()\n",
        "        md.update(input_str.encode())\n",
        "        output = md.digest()\n",
        "        print()\n",
        "        print(f\"SHA1(\\\"{input_str}\\\") = {bytes_to_hex(output)}\")\n",
        "        print()\n",
        "    except Exception as e:\n",
        "        print(f\"Exception: {e}\")\n",
        "\n",
        "def bytes_to_hex(b):\n",
        "    return ''.join([f'{byte:02X}' for byte in b])\n",
        "\n",
        "if __name__ == \"__main__\":\n",
        "    sha1()"
      ],
      "metadata": {
        "colab": {
          "base_uri": "https://localhost:8080/"
        },
        "id": "j7nOLMGuwLWZ",
        "outputId": "d0a6ec0a-bf1e-4a64-fbd8-39fdf9f2cb28"
      },
      "execution_count": 7,
      "outputs": [
        {
          "output_type": "stream",
          "name": "stdout",
          "text": [
            "Message digest object info: \n",
            " Algorithm = sha1\n",
            " Provider = hashlib\n",
            " ToString = <sha1 _hashlib.HASH object @ 0x78512b74d0d0>\n",
            "\n",
            "SHA1(\"\") = DA39A3EE5E6B4B0D3255BFEF95601890AFD80709\n",
            "\n",
            "SHA1(\"abc\") = A9993E364706816ABA3E25717850C26C9CD0D89D\n",
            "\n",
            "SHA1(\"abcdefghijklmnopqrstuvwxyz\") = 32D10C7B8CF96570CA04CE37F2A19D84240D3A89\n",
            "\n"
          ]
        }
      ]
    },
    {
      "cell_type": "markdown",
      "source": [
        "7.IMPLEMENT THE SIGNATURE SCHEME - DIGITAL\n",
        "SIGNATURE STANDARD"
      ],
      "metadata": {
        "id": "oI6JGUcdwdtj"
      }
    },
    {
      "cell_type": "code",
      "source": [
        "import random\n",
        "from sympy import isprime, nextprime, mod_inverse\n",
        "\n",
        "# Short DSA simulation\n",
        "p = nextprime(10600)\n",
        "q = nextprime((p - 1) // 2)\n",
        "g = pow(random.randint(2, p - 1), (p - 1) // q, p)\n",
        "\n",
        "print(\"\\n--- DIGITAL SIGNATURE ALGORITHM (DSA) ---\\n\")\n",
        "print(f\"Public parameters:\\np = {p}\\nq = {q}\\ng = {g}\")\n",
        "\n",
        "# Key generation\n",
        "x = random.randint(1, q - 1)   # private key\n",
        "y = pow(g, x, p)               # public key\n",
        "print(f\"\\nPrivate key (x): {x}\\nPublic key (y): {y}\")\n",
        "\n",
        "# Signature generation\n",
        "k = random.randint(1, q - 1)\n",
        "r = pow(g, k, p) % q\n",
        "h = random.randint(1, p - 1)   # pretend hash value\n",
        "s = (mod_inverse(k, q) * (h + x * r)) % q\n",
        "print(f\"\\nSignature:\\nr = {r}\\ns = {s}\")\n",
        "\n",
        "# Signature verification\n",
        "w = mod_inverse(s, q)\n",
        "u1 = (h * w) % q\n",
        "u2 = (r * w) % q\n",
        "v = ((pow(g, u1, p) * pow(y, u2, p)) % p) % q\n",
        "\n",
        "print(\"\\nVerification results:\")\n",
        "print(f\"v = {v}\\nr = {r}\")\n",
        "print(\"\\n✅ Signature Verified!\" if v == r else \"\\n❌ Signature Verification Failed!\")\n"
      ],
      "metadata": {
        "colab": {
          "base_uri": "https://localhost:8080/"
        },
        "id": "QZtShuJbwlgP",
        "outputId": "c2a80f36-a17e-408f-b22d-433486666f47"
      },
      "execution_count": 8,
      "outputs": [
        {
          "output_type": "stream",
          "name": "stdout",
          "text": [
            "\n",
            "--- DIGITAL SIGNATURE ALGORITHM (DSA) ---\n",
            "\n",
            "Public parameters:\n",
            "p = 10601\n",
            "q = 5303\n",
            "g = 3882\n",
            "\n",
            "Private key (x): 2506\n",
            "Public key (y): 5927\n",
            "\n",
            "Signature:\n",
            "r = 1207\n",
            "s = 3068\n",
            "\n",
            "Verification results:\n",
            "v = 1115\n",
            "r = 1207\n",
            "\n",
            "❌ Signature Verification Failed!\n"
          ]
        }
      ]
    }
  ]
}